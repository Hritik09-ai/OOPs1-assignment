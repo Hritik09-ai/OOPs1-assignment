{
 "cells": [
  {
   "cell_type": "code",
   "execution_count": 1,
   "id": "c132b5bc-a262-4041-b4b7-b1468ceb9f55",
   "metadata": {},
   "outputs": [],
   "source": [
    "# QUESTION.1 Explain class and object with respect to object-oriented programming. Give a suitable example.\n",
    "# ANSWER A class is consider as a blueprint of object. we can think of class as a sketch of a house. It contains all the \n",
    "# details about the floor,doors,window,etc. Based on these description we build the house.House is the object.\n",
    "# The variable inside a class are called attributes.\n",
    "# An object is called an instance of a class.For example, suppose objects like bike1,bike2,etc from the class.\n",
    "# For Example \n",
    "class bike :\n",
    "    name = \"\"\n",
    "    gear = 0"
   ]
  },
  {
   "cell_type": "code",
   "execution_count": 2,
   "id": "5cb5fe48-1b08-4401-b6f8-a1355a5242be",
   "metadata": {},
   "outputs": [],
   "source": [
    "bike1 = bike()"
   ]
  },
  {
   "cell_type": "code",
   "execution_count": 3,
   "id": "52eb84ce-df4e-4d86-ab52-2e811fd7b41f",
   "metadata": {},
   "outputs": [],
   "source": [
    "bike1.gear = 11\n",
    "bike1.name = \"mountian bike\""
   ]
  },
  {
   "cell_type": "code",
   "execution_count": 4,
   "id": "172d01dd-63da-43fa-9728-2ee503fb5462",
   "metadata": {},
   "outputs": [
    {
     "name": "stdout",
     "output_type": "stream",
     "text": [
      "Name :mountian bike, Gears:11\n"
     ]
    }
   ],
   "source": [
    "print(f\"Name :{bike1.name}, Gears:{bike1.gear}\")"
   ]
  },
  {
   "cell_type": "code",
   "execution_count": null,
   "id": "c1b57a04-8365-46a6-8f95-f8ce8d78e1bc",
   "metadata": {},
   "outputs": [],
   "source": []
  },
  {
   "cell_type": "code",
   "execution_count": null,
   "id": "02521b61-47d8-4302-99a3-f8c8b8d7154c",
   "metadata": {},
   "outputs": [],
   "source": [
    "\n",
    "# QUESTION.2 Name the four pillars of OOPs.\n",
    "\n",
    "# ANSWER The four pillars of OOPs are:\n",
    "# Encapsulation\n",
    "# Abstraction\n",
    "# Inheritance\n",
    "# Polymorphism\n"
   ]
  },
  {
   "cell_type": "code",
   "execution_count": null,
   "id": "5c38e728-ebf3-4cb2-aebf-fdc84cf75ee4",
   "metadata": {},
   "outputs": [],
   "source": []
  },
  {
   "cell_type": "code",
   "execution_count": 5,
   "id": "46426359-5e6d-4a20-bc26-ed40eabd1be6",
   "metadata": {},
   "outputs": [],
   "source": [
    "# OUESTION.3 Explain why the __init__()function is used. Give a suitable example.\n",
    "# ANSWER The '__init__()' function is used in object-orinted programming languages like python to initialize or set up the\n",
    "# initial state of an object when it is created from a class. Its a special methord tht can create the instance of a class,\n",
    "# allowing you to perform any necessary setup operation or assignments to instance variables.\n",
    "# For Example :\n",
    "class pwskills :\n",
    "    def __init__(self, Phone_number, Email_id, Student_id) :\n",
    "        self.Phone_number = Phone_number\n",
    "        self.Email_id = Email_id\n",
    "        self.Student_id = Student_id\n",
    "       \n",
    "    def return_student_details(self):\n",
    "        return self.Phone_number,self.Email_id,self.Student_id"
   ]
  },
  {
   "cell_type": "code",
   "execution_count": 7,
   "id": "98f7976b-14c6-42f0-bdf8-79892906cda5",
   "metadata": {},
   "outputs": [],
   "source": [
    "hritik = pwskills(9050961529 , 'hritik99@gmail.com',990 )"
   ]
  },
  {
   "cell_type": "code",
   "execution_count": 9,
   "id": "ba7af1b3-f88e-4179-8abe-b184ed172265",
   "metadata": {},
   "outputs": [
    {
     "data": {
      "text/plain": [
       "(9050961529, 'hritik99@gmail.com', 990)"
      ]
     },
     "execution_count": 9,
     "metadata": {},
     "output_type": "execute_result"
    }
   ],
   "source": [
    "hritik.return_student_details()"
   ]
  },
  {
   "cell_type": "code",
   "execution_count": 10,
   "id": "5faa6c42-5879-4686-ae70-7cacc35bf016",
   "metadata": {},
   "outputs": [],
   "source": [
    "# OUESTION.4 Why self is useed in OOPs?]\n",
    "# ANSWER The self variable is used to represent the instance of the class which is often used in object-oriented programming\n",
    "# It works as a reference to the objet. Python uses the self parameter to refer to instance attributes and methords of \n",
    "# the class."
   ]
  },
  {
   "cell_type": "code",
   "execution_count": null,
   "id": "1bcdfbc8-ccd6-4db1-b94e-e81aa1e1aa6b",
   "metadata": {},
   "outputs": [],
   "source": []
  },
  {
   "cell_type": "code",
   "execution_count": 11,
   "id": "553bc2a4-3400-4a05-9b29-440532f0a9f9",
   "metadata": {},
   "outputs": [],
   "source": [
    "# QUESTION.5 What is inheritance? Give an example for each type of inheritance.\n",
    "# ANSWER Inheritance is a fundamental concept in object-oriented programming (OOPs) where a new class(subclass or derived \n",
    "# class) inherits properties and behaviors(attributes and methords) from an existing class(superclass or base class). This \n",
    "# allows for code reuse and building relationship between classes.\n",
    "# For Example:\n",
    "class test :\n",
    "    \n",
    "    def test_meth(self):\n",
    "        return \"this is a methord for test class\""
   ]
  },
  {
   "cell_type": "code",
   "execution_count": 12,
   "id": "7b49713b-a1f3-4651-b09b-34dc139d8fbc",
   "metadata": {},
   "outputs": [],
   "source": [
    "class child_test(test) :\n",
    "    pass"
   ]
  },
  {
   "cell_type": "code",
   "execution_count": 13,
   "id": "ec44b543-ef92-4a4f-9b15-8712738abd3c",
   "metadata": {},
   "outputs": [],
   "source": [
    "child_test_object = child_test()"
   ]
  },
  {
   "cell_type": "code",
   "execution_count": 14,
   "id": "8c6b3549-51ca-44e3-922b-6ae6aa64dc63",
   "metadata": {},
   "outputs": [
    {
     "data": {
      "text/plain": [
       "'this is a methord for test class'"
      ]
     },
     "execution_count": 14,
     "metadata": {},
     "output_type": "execute_result"
    }
   ],
   "source": [
    "child_test_object.test_meth()"
   ]
  },
  {
   "cell_type": "code",
   "execution_count": 15,
   "id": "a574f8b3-797c-45a7-94a3-fc5f5b26af6e",
   "metadata": {},
   "outputs": [],
   "source": [
    "# MULTILEVEL INHERITANCE "
   ]
  },
  {
   "cell_type": "code",
   "execution_count": 21,
   "id": "2eeb4996-8269-4216-83d8-c71bbcf470d4",
   "metadata": {},
   "outputs": [],
   "source": [
    "class class1 :\n",
    "    def test_class1(self) :\n",
    "        return \"this is mrthord for class1\""
   ]
  },
  {
   "cell_type": "code",
   "execution_count": 22,
   "id": "55d23d4a-0fba-4f37-a0b5-6c158c8c4391",
   "metadata": {},
   "outputs": [],
   "source": [
    "class class2(class1) :\n",
    "    def test_class2(self) :\n",
    "        return \"this is mrthord for class2\""
   ]
  },
  {
   "cell_type": "code",
   "execution_count": 23,
   "id": "fae37d81-d0fb-4fca-ab13-ac4d4ca3d56a",
   "metadata": {},
   "outputs": [],
   "source": [
    "class class3(class2) :\n",
    "    pass"
   ]
  },
  {
   "cell_type": "code",
   "execution_count": 24,
   "id": "ee81b220-22c2-4ce3-b5b2-5f9440895f38",
   "metadata": {},
   "outputs": [],
   "source": [
    "obj_class3 = class3()"
   ]
  },
  {
   "cell_type": "code",
   "execution_count": 25,
   "id": "d98f3164-a24e-46c2-b844-3442a2b708dc",
   "metadata": {},
   "outputs": [
    {
     "data": {
      "text/plain": [
       "'this is mrthord for class1'"
      ]
     },
     "execution_count": 25,
     "metadata": {},
     "output_type": "execute_result"
    }
   ],
   "source": [
    "obj_class3.test_class1()"
   ]
  },
  {
   "cell_type": "code",
   "execution_count": 26,
   "id": "f411ed53-e87c-4974-906b-203aa9d3efac",
   "metadata": {},
   "outputs": [
    {
     "data": {
      "text/plain": [
       "'this is mrthord for class2'"
      ]
     },
     "execution_count": 26,
     "metadata": {},
     "output_type": "execute_result"
    }
   ],
   "source": [
    "obj_class3.test_class2()"
   ]
  },
  {
   "cell_type": "code",
   "execution_count": 27,
   "id": "0434a9a6-a48e-426d-8520-d72a938fc217",
   "metadata": {},
   "outputs": [],
   "source": [
    "# MULTIPLE INHERITANCE"
   ]
  },
  {
   "cell_type": "code",
   "execution_count": 28,
   "id": "b806a4cc-cd62-404c-a404-c60cae36e294",
   "metadata": {},
   "outputs": [],
   "source": [
    "class class1:\n",
    "    \n",
    "    def test_class1(self) :\n",
    "        return 'this is class1 '"
   ]
  },
  {
   "cell_type": "code",
   "execution_count": 29,
   "id": "8dbc3e76-18b9-4651-9e62-34e8d3ff9b9d",
   "metadata": {},
   "outputs": [],
   "source": [
    "class class2 :\n",
    "    def test_class2(self) :\n",
    "        return 'this is class2'"
   ]
  },
  {
   "cell_type": "code",
   "execution_count": 30,
   "id": "763e62b1-67ec-4b02-8200-eac02435bf68",
   "metadata": {},
   "outputs": [],
   "source": [
    "class class3(class1,class2) :\n",
    "    pass"
   ]
  },
  {
   "cell_type": "code",
   "execution_count": 31,
   "id": "48b33346-e6dc-4099-8e92-4238622b1621",
   "metadata": {},
   "outputs": [],
   "source": [
    "obj_class3 = class3()"
   ]
  },
  {
   "cell_type": "code",
   "execution_count": 32,
   "id": "6647cbd4-569c-4246-95df-976945a305ba",
   "metadata": {},
   "outputs": [
    {
     "data": {
      "text/plain": [
       "'this is class2'"
      ]
     },
     "execution_count": 32,
     "metadata": {},
     "output_type": "execute_result"
    }
   ],
   "source": [
    "obj_class3.test_class2()"
   ]
  },
  {
   "cell_type": "code",
   "execution_count": null,
   "id": "83b0fb9e-b682-4220-9e54-4765d411d782",
   "metadata": {},
   "outputs": [],
   "source": []
  }
 ],
 "metadata": {
  "kernelspec": {
   "display_name": "Python 3 (ipykernel)",
   "language": "python",
   "name": "python3"
  },
  "language_info": {
   "codemirror_mode": {
    "name": "ipython",
    "version": 3
   },
   "file_extension": ".py",
   "mimetype": "text/x-python",
   "name": "python",
   "nbconvert_exporter": "python",
   "pygments_lexer": "ipython3",
   "version": "3.10.8"
  }
 },
 "nbformat": 4,
 "nbformat_minor": 5
}
